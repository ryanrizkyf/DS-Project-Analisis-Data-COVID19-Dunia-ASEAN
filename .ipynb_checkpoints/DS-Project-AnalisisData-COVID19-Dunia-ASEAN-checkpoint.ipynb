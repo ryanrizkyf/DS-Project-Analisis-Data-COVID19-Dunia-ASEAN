{
 "cells": [
  {
   "cell_type": "markdown",
   "metadata": {},
   "source": [
    "# Pendahuluan"
   ]
  },
  {
   "cell_type": "code",
   "execution_count": 1,
   "metadata": {},
   "outputs": [],
   "source": [
    "# Library yang dibutuhkan\n",
    "\n",
    "# Pertama-tama, import terlebih dahulu library yang dibutuhkan, antara lain secara berurutan adalah :\n",
    "# json,\n",
    "# numpy,\n",
    "# pandas, dan\n",
    "# requests.\n",
    "\n",
    "# Library numpy dan pandas diimport sebagai aliasnya.\n",
    "\n",
    "import json\n",
    "import numpy as np\n",
    "import pandas as pd\n",
    "import requests\n",
    "from pandas import json_normalize"
   ]
  },
  {
   "cell_type": "markdown",
   "metadata": {},
   "source": [
    "# Mengakses Data Covid-19 dari https://covid19-api.org"
   ]
  },
  {
   "cell_type": "code",
   "execution_count": 2,
   "metadata": {},
   "outputs": [],
   "source": [
    "# Membuat Fungsi get API\n",
    "\n",
    "# Buat fungsi python get_json dengan parameter api_url. fungsi ini akan mengembalikan value berupa python dictionary. \n",
    "# Jika status_code yang dihasilkan adalah 200. Jika tidak, maka value yang dikembalikan adalah None.\n",
    "\n",
    "def get_json(api_url):\n",
    " response = requests.get(api_url)\n",
    " if response.status_code == 200:\n",
    "  return json.loads(response.content.decode('utf-8'))\n",
    " else:\n",
    "  return None"
   ]
  },
  {
   "cell_type": "code",
   "execution_count": 3,
   "metadata": {},
   "outputs": [
    {
     "name": "stdout",
     "output_type": "stream",
     "text": [
      "  country          last_update    cases  deaths  recovered\n",
      "0      US  2020-08-16T23:27:50  5401167  170019    1833067\n",
      "1      BR  2020-08-16T23:27:50  3340197  107852    2655017\n",
      "2      IN  2020-08-16T23:27:50  2589682   49980    1862258\n",
      "3      RU  2020-08-16T23:27:50   920719   15653     731444\n",
      "4      ZA  2020-08-16T23:27:50   587345   11839     472377\n"
     ]
    }
   ],
   "source": [
    "# Memanggil API Covid-19\n",
    "\n",
    "# Rekapitulasi data COVID-19 global berada di https://covid19-api.org/. \n",
    "# Gunakan parameter record_date untuk mengambil data covid19 di seluruh negara pada tanggal tertentu. \n",
    "# Untuk kasus ini, gunakan record_date '2020-08-17', dan masukkan hasil respon api ke variable df_covid_worldwide.\n",
    "\n",
    "# Untuk mendapatkan dataframe covid19, gunakan fungsi pd.io.json.json_normalize dan panggil function yang sudah dibuat sebelumnya, \n",
    "# yaitu get_json() Print sample data covid dengan menggunakan head() function.\n",
    "\n",
    "record_date = '2020-08-17'\n",
    "covid_url = 'https://covid19-api.org/api/status?date='+record_date\n",
    "df_covid_worldwide = pd.json_normalize(get_json(covid_url))\n",
    "\n",
    "print(df_covid_worldwide.head())"
   ]
  },
  {
   "cell_type": "code",
   "execution_count": 4,
   "metadata": {},
   "outputs": [],
   "source": [
    "# Merubah Format date\n",
    "\n",
    "# Ubah format kolom 'last_update' menggunakan fungsi to_datetime dengan format YYYY-mm-dd HH:MM:SS. \n",
    "# Lalu ubah bentuk datetime ke bentuk date dengan fungsi date() melalui fungsi lambda untuk mengubah setiap row-nya.\n",
    "\n",
    "df_covid_worldwide['last_update'] = pd.to_datetime(df_covid_worldwide['last_update'], format='%Y-%m-%d %H:%M:%S')\n",
    "df_covid_worldwide['last_update'] = df_covid_worldwide['last_update'].apply(lambda x: x.date())"
   ]
  },
  {
   "cell_type": "code",
   "execution_count": 7,
   "metadata": {},
   "outputs": [
    {
     "name": "stdout",
     "output_type": "stream",
     "text": [
      "          name country\n",
      "0  Afghanistan      AF\n",
      "1      Albania      AL\n",
      "2      Algeria      DZ\n",
      "3      Andorra      AD\n",
      "4       Angola      AO\n"
     ]
    }
   ],
   "source": [
    "# Mengambil Data Countries\n",
    "\n",
    "# Buatlah dataframe countries dengan memanggil variable countries_url ke api covid19-api.org. \n",
    "# Lalu ubah nama kolom alpha2 menjadi country, kemudian ambil hanya kolom name dan country saja untuk dataframe countries (df_countries) ini.\n",
    "\n",
    "# Akhirnya cetaklah lima data teratas dari dataframe countries (df_countries).\n",
    "\n",
    "countries_url = 'https://covid19-api.org/api/countries'\n",
    "df_countries = pd.json_normalize(get_json(countries_url))\n",
    "df_countries = df_countries.rename(columns={'alpha2': 'country'})[['name','country']]\n",
    "print(df_countries.head())"
   ]
  },
  {
   "cell_type": "markdown",
   "metadata": {},
   "source": [
    "# Kasus Covid-19 di Dunia dan Negara Mana yang Tertinggi"
   ]
  },
  {
   "cell_type": "code",
   "execution_count": null,
   "metadata": {},
   "outputs": [],
   "source": [
    "# Merge Covid-19 Data dan Countries\n",
    "\n",
    "# Selanjutnya adalah mapping data covid19 dan data country. \n",
    "# Gunakan fungsi merge pada pandas untuk menggabungkan df_covid_worldwide dan df_countries. \n",
    "# Untuk merge, gunakan kolom country. Lalu print sample data dengan menggunakan head().\n",
    "\n",
    "df_covid_denormalized = pd.merge(df_covid_worldwide, df_countries, on='country')\n",
    "print(df_covid_denormalized.head())"
   ]
  }
 ],
 "metadata": {
  "kernelspec": {
   "display_name": "Python 3",
   "language": "python",
   "name": "python3"
  },
  "language_info": {
   "codemirror_mode": {
    "name": "ipython",
    "version": 3
   },
   "file_extension": ".py",
   "mimetype": "text/x-python",
   "name": "python",
   "nbconvert_exporter": "python",
   "pygments_lexer": "ipython3",
   "version": "3.7.6"
  }
 },
 "nbformat": 4,
 "nbformat_minor": 4
}
