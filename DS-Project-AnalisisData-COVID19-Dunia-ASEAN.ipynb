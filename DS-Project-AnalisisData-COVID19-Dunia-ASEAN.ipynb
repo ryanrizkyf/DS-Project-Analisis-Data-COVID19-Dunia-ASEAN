{
 "cells": [
  {
   "cell_type": "markdown",
   "metadata": {},
   "source": [
    "# Pendahuluan"
   ]
  },
  {
   "cell_type": "code",
   "execution_count": 1,
   "metadata": {},
   "outputs": [],
   "source": [
    "# Library yang dibutuhkan\n",
    "\n",
    "# Pertama-tama, import terlebih dahulu library yang dibutuhkan, antara lain secara berurutan adalah :\n",
    "# json,\n",
    "# numpy,\n",
    "# pandas, dan\n",
    "# requests.\n",
    "\n",
    "# Library numpy dan pandas diimport sebagai aliasnya.\n",
    "\n",
    "import json\n",
    "import numpy as np\n",
    "import pandas as pd\n",
    "import requests"
   ]
  },
  {
   "cell_type": "code",
   "execution_count": null,
   "metadata": {},
   "outputs": [],
   "source": [
    "# Membuat Fungsi get API\n",
    "\n",
    "# Buat fungsi python get_json dengan parameter api_url. fungsi ini akan mengembalikan value berupa python dictionary. \n",
    "# Jika status_code yang dihasilkan adalah 200. Jika tidak, maka value yang dikembalikan adalah None.\n",
    "\n",
    "def get_json(api_url):\n",
    "\tresponse = requests.get(api_url)\n",
    "\tif response.status_code == 200:\n",
    "\t\treturn json.loads(response.content.decode('utf-8'))\n",
    "\telse:\n",
    "\t\treturn None"
   ]
  }
 ],
 "metadata": {
  "kernelspec": {
   "display_name": "Python 3",
   "language": "python",
   "name": "python3"
  },
  "language_info": {
   "codemirror_mode": {
    "name": "ipython",
    "version": 3
   },
   "file_extension": ".py",
   "mimetype": "text/x-python",
   "name": "python",
   "nbconvert_exporter": "python",
   "pygments_lexer": "ipython3",
   "version": "3.7.6"
  }
 },
 "nbformat": 4,
 "nbformat_minor": 4
}
