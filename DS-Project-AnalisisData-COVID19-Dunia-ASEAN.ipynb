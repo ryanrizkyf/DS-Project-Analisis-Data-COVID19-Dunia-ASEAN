{
 "cells": [
  {
   "cell_type": "markdown",
   "metadata": {},
   "source": [
    "# Pendahuluan"
   ]
  },
  {
   "cell_type": "code",
   "execution_count": 1,
   "metadata": {},
   "outputs": [],
   "source": [
    "# Library yang dibutuhkan\n",
    "\n",
    "# Pertama-tama, import terlebih dahulu library yang dibutuhkan, antara lain secara berurutan adalah :\n",
    "# json,\n",
    "# numpy,\n",
    "# pandas, dan\n",
    "# requests.\n",
    "\n",
    "# Library numpy dan pandas diimport sebagai aliasnya.\n",
    "\n",
    "import json\n",
    "import numpy as np\n",
    "import pandas as pd\n",
    "import requests\n",
    "from pandas import json_normalize"
   ]
  },
  {
   "cell_type": "markdown",
   "metadata": {},
   "source": [
    "# Mengakses Data Covid-19 dari https://covid19-api.org"
   ]
  },
  {
   "cell_type": "code",
   "execution_count": 2,
   "metadata": {},
   "outputs": [],
   "source": [
    "# Membuat Fungsi get API\n",
    "\n",
    "# Buat fungsi python get_json dengan parameter api_url. fungsi ini akan mengembalikan value berupa python dictionary. \n",
    "# Jika status_code yang dihasilkan adalah 200. Jika tidak, maka value yang dikembalikan adalah None.\n",
    "\n",
    "def get_json(api_url):\n",
    " response = requests.get(api_url)\n",
    " if response.status_code == 200:\n",
    "  return json.loads(response.content.decode('utf-8'))\n",
    " else:\n",
    "  return None"
   ]
  },
  {
   "cell_type": "code",
   "execution_count": 3,
   "metadata": {},
   "outputs": [
    {
     "ename": "TypeError",
     "evalue": "'NoneType' object is not iterable",
     "output_type": "error",
     "traceback": [
      "\u001b[1;31m---------------------------------------------------------------------------\u001b[0m",
      "\u001b[1;31mTypeError\u001b[0m                                 Traceback (most recent call last)",
      "\u001b[1;32m<ipython-input-3-05014f21b76a>\u001b[0m in \u001b[0;36m<module>\u001b[1;34m\u001b[0m\n\u001b[0;32m     10\u001b[0m \u001b[0mrecord_date\u001b[0m \u001b[1;33m=\u001b[0m \u001b[1;34m'2020-08-17'\u001b[0m\u001b[1;33m\u001b[0m\u001b[1;33m\u001b[0m\u001b[0m\n\u001b[0;32m     11\u001b[0m \u001b[0mcovid_url\u001b[0m \u001b[1;33m=\u001b[0m \u001b[1;34m'https://covid19-api.org/api/status?date='\u001b[0m\u001b[1;33m+\u001b[0m\u001b[0mrecord_date\u001b[0m\u001b[1;33m\u001b[0m\u001b[1;33m\u001b[0m\u001b[0m\n\u001b[1;32m---> 12\u001b[1;33m \u001b[0mdf_covid_worldwide\u001b[0m \u001b[1;33m=\u001b[0m \u001b[0mpd\u001b[0m\u001b[1;33m.\u001b[0m\u001b[0mjson_normalize\u001b[0m\u001b[1;33m(\u001b[0m\u001b[0mget_json\u001b[0m\u001b[1;33m(\u001b[0m\u001b[0mcovid_url\u001b[0m\u001b[1;33m)\u001b[0m\u001b[1;33m)\u001b[0m\u001b[1;33m\u001b[0m\u001b[1;33m\u001b[0m\u001b[0m\n\u001b[0m\u001b[0;32m     13\u001b[0m \u001b[1;33m\u001b[0m\u001b[0m\n\u001b[0;32m     14\u001b[0m \u001b[0mprint\u001b[0m\u001b[1;33m(\u001b[0m\u001b[0mdf_covid_worldwide\u001b[0m\u001b[1;33m.\u001b[0m\u001b[0mhead\u001b[0m\u001b[1;33m(\u001b[0m\u001b[1;33m)\u001b[0m\u001b[1;33m)\u001b[0m\u001b[1;33m\u001b[0m\u001b[1;33m\u001b[0m\u001b[0m\n",
      "\u001b[1;32mD:\\Programs\\anaconda3\\lib\\site-packages\\pandas\\io\\json\\_normalize.py\u001b[0m in \u001b[0;36m_json_normalize\u001b[1;34m(data, record_path, meta, meta_prefix, record_prefix, errors, sep, max_level)\u001b[0m\n\u001b[0;32m    258\u001b[0m \u001b[1;33m\u001b[0m\u001b[0m\n\u001b[0;32m    259\u001b[0m     \u001b[1;32mif\u001b[0m \u001b[0mrecord_path\u001b[0m \u001b[1;32mis\u001b[0m \u001b[1;32mNone\u001b[0m\u001b[1;33m:\u001b[0m\u001b[1;33m\u001b[0m\u001b[1;33m\u001b[0m\u001b[0m\n\u001b[1;32m--> 260\u001b[1;33m         \u001b[1;32mif\u001b[0m \u001b[0many\u001b[0m\u001b[1;33m(\u001b[0m\u001b[1;33m[\u001b[0m\u001b[0misinstance\u001b[0m\u001b[1;33m(\u001b[0m\u001b[0mx\u001b[0m\u001b[1;33m,\u001b[0m \u001b[0mdict\u001b[0m\u001b[1;33m)\u001b[0m \u001b[1;32mfor\u001b[0m \u001b[0mx\u001b[0m \u001b[1;32min\u001b[0m \u001b[0my\u001b[0m\u001b[1;33m.\u001b[0m\u001b[0mvalues\u001b[0m\u001b[1;33m(\u001b[0m\u001b[1;33m)\u001b[0m\u001b[1;33m]\u001b[0m \u001b[1;32mfor\u001b[0m \u001b[0my\u001b[0m \u001b[1;32min\u001b[0m \u001b[0mdata\u001b[0m\u001b[1;33m)\u001b[0m\u001b[1;33m:\u001b[0m\u001b[1;33m\u001b[0m\u001b[1;33m\u001b[0m\u001b[0m\n\u001b[0m\u001b[0;32m    261\u001b[0m             \u001b[1;31m# naive normalization, this is idempotent for flat records\u001b[0m\u001b[1;33m\u001b[0m\u001b[1;33m\u001b[0m\u001b[1;33m\u001b[0m\u001b[0m\n\u001b[0;32m    262\u001b[0m             \u001b[1;31m# and potentially will inflate the data considerably for\u001b[0m\u001b[1;33m\u001b[0m\u001b[1;33m\u001b[0m\u001b[1;33m\u001b[0m\u001b[0m\n",
      "\u001b[1;31mTypeError\u001b[0m: 'NoneType' object is not iterable"
     ]
    }
   ],
   "source": [
    "# Memanggil API Covid-19\n",
    "\n",
    "# Rekapitulasi data COVID-19 global berada di https://covid19-api.org/. \n",
    "# Gunakan parameter record_date untuk mengambil data covid19 di seluruh negara pada tanggal tertentu. \n",
    "# Untuk kasus ini, gunakan record_date '2020-08-17', dan masukkan hasil respon api ke variable df_covid_worldwide.\n",
    "\n",
    "# Untuk mendapatkan dataframe covid19, gunakan fungsi pd.io.json.json_normalize dan panggil function yang sudah dibuat sebelumnya, \n",
    "# yaitu get_json() Print sample data covid dengan menggunakan head() function.\n",
    "\n",
    "record_date = '2020-08-17'\n",
    "covid_url = 'https://covid19-api.org/api/status?date='+record_date\n",
    "df_covid_worldwide = pd.json_normalize(get_json(covid_url))\n",
    "\n",
    "print(df_covid_worldwide.head())"
   ]
  },
  {
   "cell_type": "code",
   "execution_count": null,
   "metadata": {},
   "outputs": [],
   "source": [
    "# Merubah Format date\n",
    "\n",
    "# Ubah format kolom 'last_update' menggunakan fungsi to_datetime dengan format YYYY-mm-dd HH:MM:SS. \n",
    "# Lalu ubah bentuk datetime ke bentuk date dengan fungsi date() melalui fungsi lambda untuk mengubah setiap row-nya.\n",
    "\n",
    "df_covid_worldwide['last_update'] = pd.to_datetime(df_covid_worldwide['last_update'], format='%Y-%m-%d %H:%M:%S')\n",
    "df_covid_worldwide['last_update'] = df_covid_worldwide['last_update'].apply(lambda x: x.date())"
   ]
  },
  {
   "cell_type": "code",
   "execution_count": null,
   "metadata": {},
   "outputs": [],
   "source": [
    "# Mengambil Data Countries\n",
    "\n",
    "# Buatlah dataframe countries dengan memanggil variable countries_url ke api covid19-api.org. \n",
    "# Lalu ubah nama kolom alpha2 menjadi country, kemudian ambil hanya kolom name dan country saja untuk dataframe countries (df_countries) ini.\n",
    "\n",
    "# Akhirnya cetaklah lima data teratas dari dataframe countries (df_countries).\n",
    "\n",
    "countries_url = 'https://covid19-api.org/api/countries'\n",
    "df_countries = pd.json_normalize(get_json(countries_url))\n",
    "df_countries = df_countries.rename(columns={'alpha2': 'country'})[['name','country']]\n",
    "print(df_countries.head())"
   ]
  },
  {
   "cell_type": "markdown",
   "metadata": {},
   "source": [
    "# Kasus Covid-19 di Dunia dan Negara Mana yang Tertinggi"
   ]
  },
  {
   "cell_type": "code",
   "execution_count": null,
   "metadata": {},
   "outputs": [],
   "source": [
    "# Merge Covid-19 Data dan Countries\n",
    "\n",
    "# Selanjutnya adalah mapping data covid19 dan data country. \n",
    "# Gunakan fungsi merge pada pandas untuk menggabungkan df_covid_worldwide dan df_countries. \n",
    "# Untuk merge, gunakan kolom country. Lalu print sample data dengan menggunakan head().\n",
    "\n",
    "df_covid_denormalized = pd.merge(df_covid_worldwide, df_countries, on='country')\n",
    "print(df_covid_denormalized.head())"
   ]
  },
  {
   "cell_type": "code",
   "execution_count": null,
   "metadata": {},
   "outputs": [],
   "source": [
    "# Menghitung Fatality Ratio\n",
    "\n",
    "# Tambahkan satu kolom tambahan yaitu fatality_ratio, yang merupakan pembagian antara kolom deaths dan cases.\n",
    "\n",
    "df_covid_denormalized['fatality_ratio'] = df_covid_denormalized['deaths']/df_covid_denormalized['cases']"
   ]
  },
  {
   "cell_type": "code",
   "execution_count": null,
   "metadata": {},
   "outputs": [],
   "source": [
    "# Negara-negara dengan Fatality Ratio Tertinggi\n",
    "\n",
    "# Ambil top 20 negara dengan value kolom fatality_ratio tertinggi dengan menggunakan fungsi sort_values.\n",
    "\n",
    "df_top_20_fatality_rate = df_covid_denormalized.sort_values(by='fatality_ratio', ascending=False).head(20)"
   ]
  },
  {
   "cell_type": "code",
   "execution_count": null,
   "metadata": {},
   "outputs": [],
   "source": [
    "# Import Library Visualisasi\n",
    "\n",
    "# Importlah library matplotlib.pyplot sebagai aliasnya plt.\n",
    "\n",
    "import matplotlib.pyplot as plt"
   ]
  },
  {
   "cell_type": "code",
   "execution_count": null,
   "metadata": {},
   "outputs": [],
   "source": [
    "# Visualisasi Negara dengan Fatality Ratio Tertinggi\n",
    "\n",
    "# Untuk memvisualisasikan negara-negara dengan kasus fatality rate tertinggi akibat covid-19, \n",
    "# dapat dilakukan dengan menggunakan bar chart.  Di sini tentukan terlebih dahulu isi dari variable x axis dan y axis.\n",
    "\n",
    "# Variabel x axis adalah kolom name, dan kolom y atau value nya adalah kolom fatality_ratio \n",
    "# dan gunakan fungsi plt.bar([value x axis, value y axis]).\n",
    "\n",
    "# Label sumbu x diputar 90 derajat untuk menghindari bertumpuknya nama-nama negara pada posisi 0 derajat.\n",
    "\n",
    "plt.figure(figsize=(20, 8))\n",
    "x = df_top_20_fatality_rate['name']\n",
    "y = df_top_20_fatality_rate['fatality_ratio']\n",
    "plt.bar(x,y)\n",
    "plt.xlabel('Country Name')\n",
    "plt.ylabel('Fatality Rate')\n",
    "plt.title('Top 20 Highest Fatality Rate Countries')\n",
    "plt.xticks(rotation=90)\n",
    "plt.tight_layout()\n",
    "plt.show()"
   ]
  }
 ],
 "metadata": {
  "kernelspec": {
   "display_name": "Python 3",
   "language": "python",
   "name": "python3"
  },
  "language_info": {
   "codemirror_mode": {
    "name": "ipython",
    "version": 3
   },
   "file_extension": ".py",
   "mimetype": "text/x-python",
   "name": "python",
   "nbconvert_exporter": "python",
   "pygments_lexer": "ipython3",
   "version": "3.7.6"
  }
 },
 "nbformat": 4,
 "nbformat_minor": 4
}
